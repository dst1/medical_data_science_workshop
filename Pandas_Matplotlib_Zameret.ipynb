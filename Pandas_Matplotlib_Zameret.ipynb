{
 "cells": [
  {
   "cell_type": "markdown",
   "metadata": {},
   "source": [
    "# Importing packages"
   ]
  },
  {
   "cell_type": "code",
   "execution_count": 14,
   "metadata": {},
   "outputs": [],
   "source": [
    "import numpy as np\n",
    "import os\n",
    "import pandas as pd\n",
    "import matplotlib.pyplot as plt\n",
    "from IPython.display import display\n",
    "\n",
    "DIR=r'C:\\Users\\Yhara\\Desktop\\hackathon'"
   ]
  },
  {
   "cell_type": "markdown",
   "metadata": {},
   "source": [
    "# What are we working on ?\n",
    "The National Health and Nutrition Examination Survey (NHANES) is a population survey implemented by the Centers for Disease Control and Prevention (CDC) to monitor the health of the United States whose data is publicly available in hundreds of files. This Data Descriptor describes a single unified and universally accessible data file, merging across 255 separate files and stitching data across 4 surveys, encompassing 41,474 individuals and 1,191 variables. The variables consist of phenotype and environmental exposure information on each individual, specifically (1) demographic information, physical exam results (e.g., height, body mass index), laboratory results (e.g., cholesterol, glucose, and environmental exposures), and (4) questionnaire items.\n",
    "\n",
    "https://datadryad.org/stash/dataset/doi:10.5061/dryad.d5h62"
   ]
  },
  {
   "cell_type": "markdown",
   "metadata": {},
   "source": [
    "# Loading dataframe "
   ]
  },
  {
   "cell_type": "code",
   "execution_count": 200,
   "metadata": {},
   "outputs": [],
   "source": [
    "#the dataset includes 41,474 individuals and 1191 variables\n",
    "df = pd.read_csv(os.path.join(DIR, 'MainTable.csv'))"
   ]
  },
  {
   "cell_type": "markdown",
   "metadata": {},
   "source": [
    "Useful commands to observe our dataframe"
   ]
  },
  {
   "cell_type": "code",
   "execution_count": 201,
   "metadata": {},
   "outputs": [
    {
     "data": {
      "text/html": [
       "<div>\n",
       "<style scoped>\n",
       "    .dataframe tbody tr th:only-of-type {\n",
       "        vertical-align: middle;\n",
       "    }\n",
       "\n",
       "    .dataframe tbody tr th {\n",
       "        vertical-align: top;\n",
       "    }\n",
       "\n",
       "    .dataframe thead th {\n",
       "        text-align: right;\n",
       "    }\n",
       "</style>\n",
       "<table border=\"1\" class=\"dataframe\">\n",
       "  <thead>\n",
       "    <tr style=\"text-align: right;\">\n",
       "      <th></th>\n",
       "      <th>SEQN</th>\n",
       "      <th>RIDAGEYR</th>\n",
       "      <th>female</th>\n",
       "      <th>male</th>\n",
       "      <th>black</th>\n",
       "      <th>mexican</th>\n",
       "      <th>other_hispanic</th>\n",
       "      <th>other_eth</th>\n",
       "      <th>SES_LEVEL</th>\n",
       "      <th>education</th>\n",
       "      <th>...</th>\n",
       "      <th>MORTSTAT</th>\n",
       "      <th>MORTSOURCE_NDI</th>\n",
       "      <th>MORTSOURCE_SSA</th>\n",
       "      <th>PERMTH_INT</th>\n",
       "      <th>PERMTH_EXM</th>\n",
       "      <th>CAUSEAVL</th>\n",
       "      <th>UCODE</th>\n",
       "      <th>DIABETES</th>\n",
       "      <th>HYPERTEN</th>\n",
       "      <th>HIPFRACT</th>\n",
       "    </tr>\n",
       "  </thead>\n",
       "  <tbody>\n",
       "    <tr>\n",
       "      <th>0</th>\n",
       "      <td>1</td>\n",
       "      <td>2</td>\n",
       "      <td>1</td>\n",
       "      <td>0</td>\n",
       "      <td>1</td>\n",
       "      <td>0</td>\n",
       "      <td>0</td>\n",
       "      <td>0</td>\n",
       "      <td>0.0</td>\n",
       "      <td>NaN</td>\n",
       "      <td>...</td>\n",
       "      <td>NaN</td>\n",
       "      <td>NaN</td>\n",
       "      <td>NaN</td>\n",
       "      <td>NaN</td>\n",
       "      <td>NaN</td>\n",
       "      <td>NaN</td>\n",
       "      <td>NaN</td>\n",
       "      <td>NaN</td>\n",
       "      <td>NaN</td>\n",
       "      <td>NaN</td>\n",
       "    </tr>\n",
       "    <tr>\n",
       "      <th>1</th>\n",
       "      <td>2</td>\n",
       "      <td>77</td>\n",
       "      <td>0</td>\n",
       "      <td>1</td>\n",
       "      <td>0</td>\n",
       "      <td>0</td>\n",
       "      <td>0</td>\n",
       "      <td>0</td>\n",
       "      <td>2.0</td>\n",
       "      <td>2.0</td>\n",
       "      <td>...</td>\n",
       "      <td>0.0</td>\n",
       "      <td>NaN</td>\n",
       "      <td>NaN</td>\n",
       "      <td>91.0</td>\n",
       "      <td>90.0</td>\n",
       "      <td>NaN</td>\n",
       "      <td>NaN</td>\n",
       "      <td>NaN</td>\n",
       "      <td>NaN</td>\n",
       "      <td>NaN</td>\n",
       "    </tr>\n",
       "    <tr>\n",
       "      <th>2</th>\n",
       "      <td>3</td>\n",
       "      <td>10</td>\n",
       "      <td>1</td>\n",
       "      <td>0</td>\n",
       "      <td>0</td>\n",
       "      <td>0</td>\n",
       "      <td>0</td>\n",
       "      <td>0</td>\n",
       "      <td>0.0</td>\n",
       "      <td>0.0</td>\n",
       "      <td>...</td>\n",
       "      <td>NaN</td>\n",
       "      <td>NaN</td>\n",
       "      <td>NaN</td>\n",
       "      <td>NaN</td>\n",
       "      <td>NaN</td>\n",
       "      <td>NaN</td>\n",
       "      <td>NaN</td>\n",
       "      <td>NaN</td>\n",
       "      <td>NaN</td>\n",
       "      <td>NaN</td>\n",
       "    </tr>\n",
       "    <tr>\n",
       "      <th>3</th>\n",
       "      <td>4</td>\n",
       "      <td>1</td>\n",
       "      <td>0</td>\n",
       "      <td>1</td>\n",
       "      <td>1</td>\n",
       "      <td>0</td>\n",
       "      <td>0</td>\n",
       "      <td>0</td>\n",
       "      <td>0.0</td>\n",
       "      <td>NaN</td>\n",
       "      <td>...</td>\n",
       "      <td>NaN</td>\n",
       "      <td>NaN</td>\n",
       "      <td>NaN</td>\n",
       "      <td>NaN</td>\n",
       "      <td>NaN</td>\n",
       "      <td>NaN</td>\n",
       "      <td>NaN</td>\n",
       "      <td>NaN</td>\n",
       "      <td>NaN</td>\n",
       "      <td>NaN</td>\n",
       "    </tr>\n",
       "    <tr>\n",
       "      <th>4</th>\n",
       "      <td>5</td>\n",
       "      <td>49</td>\n",
       "      <td>0</td>\n",
       "      <td>1</td>\n",
       "      <td>0</td>\n",
       "      <td>0</td>\n",
       "      <td>0</td>\n",
       "      <td>0</td>\n",
       "      <td>2.0</td>\n",
       "      <td>2.0</td>\n",
       "      <td>...</td>\n",
       "      <td>0.0</td>\n",
       "      <td>NaN</td>\n",
       "      <td>NaN</td>\n",
       "      <td>74.0</td>\n",
       "      <td>74.0</td>\n",
       "      <td>NaN</td>\n",
       "      <td>NaN</td>\n",
       "      <td>NaN</td>\n",
       "      <td>NaN</td>\n",
       "      <td>NaN</td>\n",
       "    </tr>\n",
       "  </tbody>\n",
       "</table>\n",
       "<p>5 rows × 1191 columns</p>\n",
       "</div>"
      ],
      "text/plain": [
       "   SEQN  RIDAGEYR  female  male  black  mexican  other_hispanic  other_eth  \\\n",
       "0     1         2       1     0      1        0               0          0   \n",
       "1     2        77       0     1      0        0               0          0   \n",
       "2     3        10       1     0      0        0               0          0   \n",
       "3     4         1       0     1      1        0               0          0   \n",
       "4     5        49       0     1      0        0               0          0   \n",
       "\n",
       "   SES_LEVEL  education  ...  MORTSTAT  MORTSOURCE_NDI  MORTSOURCE_SSA  \\\n",
       "0        0.0        NaN  ...       NaN             NaN             NaN   \n",
       "1        2.0        2.0  ...       0.0             NaN             NaN   \n",
       "2        0.0        0.0  ...       NaN             NaN             NaN   \n",
       "3        0.0        NaN  ...       NaN             NaN             NaN   \n",
       "4        2.0        2.0  ...       0.0             NaN             NaN   \n",
       "\n",
       "   PERMTH_INT  PERMTH_EXM  CAUSEAVL  UCODE  DIABETES  HYPERTEN  HIPFRACT  \n",
       "0         NaN         NaN       NaN    NaN       NaN       NaN       NaN  \n",
       "1        91.0        90.0       NaN    NaN       NaN       NaN       NaN  \n",
       "2         NaN         NaN       NaN    NaN       NaN       NaN       NaN  \n",
       "3         NaN         NaN       NaN    NaN       NaN       NaN       NaN  \n",
       "4        74.0        74.0       NaN    NaN       NaN       NaN       NaN  \n",
       "\n",
       "[5 rows x 1191 columns]"
      ]
     },
     "metadata": {},
     "output_type": "display_data"
    }
   ],
   "source": [
    "#lets look on the head of our dataframe\n",
    "display(df.head(5))"
   ]
  },
  {
   "cell_type": "code",
   "execution_count": 202,
   "metadata": {},
   "outputs": [
    {
     "data": {
      "text/html": [
       "<div>\n",
       "<style scoped>\n",
       "    .dataframe tbody tr th:only-of-type {\n",
       "        vertical-align: middle;\n",
       "    }\n",
       "\n",
       "    .dataframe tbody tr th {\n",
       "        vertical-align: top;\n",
       "    }\n",
       "\n",
       "    .dataframe thead th {\n",
       "        text-align: right;\n",
       "    }\n",
       "</style>\n",
       "<table border=\"1\" class=\"dataframe\">\n",
       "  <thead>\n",
       "    <tr style=\"text-align: right;\">\n",
       "      <th></th>\n",
       "      <th>SEQN</th>\n",
       "      <th>RIDAGEYR</th>\n",
       "      <th>female</th>\n",
       "      <th>male</th>\n",
       "      <th>black</th>\n",
       "      <th>mexican</th>\n",
       "      <th>other_hispanic</th>\n",
       "      <th>other_eth</th>\n",
       "      <th>SES_LEVEL</th>\n",
       "      <th>education</th>\n",
       "      <th>...</th>\n",
       "      <th>MORTSTAT</th>\n",
       "      <th>MORTSOURCE_NDI</th>\n",
       "      <th>MORTSOURCE_SSA</th>\n",
       "      <th>PERMTH_INT</th>\n",
       "      <th>PERMTH_EXM</th>\n",
       "      <th>CAUSEAVL</th>\n",
       "      <th>UCODE</th>\n",
       "      <th>DIABETES</th>\n",
       "      <th>HYPERTEN</th>\n",
       "      <th>HIPFRACT</th>\n",
       "    </tr>\n",
       "  </thead>\n",
       "  <tbody>\n",
       "    <tr>\n",
       "      <th>41469</th>\n",
       "      <td>41470</td>\n",
       "      <td>0</td>\n",
       "      <td>0</td>\n",
       "      <td>1</td>\n",
       "      <td>0</td>\n",
       "      <td>0</td>\n",
       "      <td>0</td>\n",
       "      <td>0</td>\n",
       "      <td>1.0</td>\n",
       "      <td>NaN</td>\n",
       "      <td>...</td>\n",
       "      <td>NaN</td>\n",
       "      <td>NaN</td>\n",
       "      <td>NaN</td>\n",
       "      <td>NaN</td>\n",
       "      <td>NaN</td>\n",
       "      <td>NaN</td>\n",
       "      <td>NaN</td>\n",
       "      <td>NaN</td>\n",
       "      <td>NaN</td>\n",
       "      <td>NaN</td>\n",
       "    </tr>\n",
       "    <tr>\n",
       "      <th>41470</th>\n",
       "      <td>41471</td>\n",
       "      <td>12</td>\n",
       "      <td>0</td>\n",
       "      <td>1</td>\n",
       "      <td>1</td>\n",
       "      <td>0</td>\n",
       "      <td>0</td>\n",
       "      <td>0</td>\n",
       "      <td>0.0</td>\n",
       "      <td>0.0</td>\n",
       "      <td>...</td>\n",
       "      <td>NaN</td>\n",
       "      <td>NaN</td>\n",
       "      <td>NaN</td>\n",
       "      <td>NaN</td>\n",
       "      <td>NaN</td>\n",
       "      <td>NaN</td>\n",
       "      <td>NaN</td>\n",
       "      <td>NaN</td>\n",
       "      <td>NaN</td>\n",
       "      <td>NaN</td>\n",
       "    </tr>\n",
       "    <tr>\n",
       "      <th>41471</th>\n",
       "      <td>41472</td>\n",
       "      <td>34</td>\n",
       "      <td>0</td>\n",
       "      <td>1</td>\n",
       "      <td>0</td>\n",
       "      <td>0</td>\n",
       "      <td>0</td>\n",
       "      <td>0</td>\n",
       "      <td>1.0</td>\n",
       "      <td>2.0</td>\n",
       "      <td>...</td>\n",
       "      <td>NaN</td>\n",
       "      <td>NaN</td>\n",
       "      <td>NaN</td>\n",
       "      <td>NaN</td>\n",
       "      <td>NaN</td>\n",
       "      <td>NaN</td>\n",
       "      <td>NaN</td>\n",
       "      <td>NaN</td>\n",
       "      <td>NaN</td>\n",
       "      <td>NaN</td>\n",
       "    </tr>\n",
       "    <tr>\n",
       "      <th>41472</th>\n",
       "      <td>41473</td>\n",
       "      <td>21</td>\n",
       "      <td>0</td>\n",
       "      <td>1</td>\n",
       "      <td>0</td>\n",
       "      <td>1</td>\n",
       "      <td>0</td>\n",
       "      <td>0</td>\n",
       "      <td>0.0</td>\n",
       "      <td>0.0</td>\n",
       "      <td>...</td>\n",
       "      <td>NaN</td>\n",
       "      <td>NaN</td>\n",
       "      <td>NaN</td>\n",
       "      <td>NaN</td>\n",
       "      <td>NaN</td>\n",
       "      <td>NaN</td>\n",
       "      <td>NaN</td>\n",
       "      <td>NaN</td>\n",
       "      <td>NaN</td>\n",
       "      <td>NaN</td>\n",
       "    </tr>\n",
       "    <tr>\n",
       "      <th>41473</th>\n",
       "      <td>41474</td>\n",
       "      <td>16</td>\n",
       "      <td>1</td>\n",
       "      <td>0</td>\n",
       "      <td>1</td>\n",
       "      <td>0</td>\n",
       "      <td>0</td>\n",
       "      <td>0</td>\n",
       "      <td>0.0</td>\n",
       "      <td>0.0</td>\n",
       "      <td>...</td>\n",
       "      <td>NaN</td>\n",
       "      <td>NaN</td>\n",
       "      <td>NaN</td>\n",
       "      <td>NaN</td>\n",
       "      <td>NaN</td>\n",
       "      <td>NaN</td>\n",
       "      <td>NaN</td>\n",
       "      <td>NaN</td>\n",
       "      <td>NaN</td>\n",
       "      <td>NaN</td>\n",
       "    </tr>\n",
       "  </tbody>\n",
       "</table>\n",
       "<p>5 rows × 1191 columns</p>\n",
       "</div>"
      ],
      "text/plain": [
       "        SEQN  RIDAGEYR  female  male  black  mexican  other_hispanic  \\\n",
       "41469  41470         0       0     1      0        0               0   \n",
       "41470  41471        12       0     1      1        0               0   \n",
       "41471  41472        34       0     1      0        0               0   \n",
       "41472  41473        21       0     1      0        1               0   \n",
       "41473  41474        16       1     0      1        0               0   \n",
       "\n",
       "       other_eth  SES_LEVEL  education  ...  MORTSTAT  MORTSOURCE_NDI  \\\n",
       "41469          0        1.0        NaN  ...       NaN             NaN   \n",
       "41470          0        0.0        0.0  ...       NaN             NaN   \n",
       "41471          0        1.0        2.0  ...       NaN             NaN   \n",
       "41472          0        0.0        0.0  ...       NaN             NaN   \n",
       "41473          0        0.0        0.0  ...       NaN             NaN   \n",
       "\n",
       "       MORTSOURCE_SSA  PERMTH_INT  PERMTH_EXM  CAUSEAVL  UCODE  DIABETES  \\\n",
       "41469             NaN         NaN         NaN       NaN    NaN       NaN   \n",
       "41470             NaN         NaN         NaN       NaN    NaN       NaN   \n",
       "41471             NaN         NaN         NaN       NaN    NaN       NaN   \n",
       "41472             NaN         NaN         NaN       NaN    NaN       NaN   \n",
       "41473             NaN         NaN         NaN       NaN    NaN       NaN   \n",
       "\n",
       "       HYPERTEN  HIPFRACT  \n",
       "41469       NaN       NaN  \n",
       "41470       NaN       NaN  \n",
       "41471       NaN       NaN  \n",
       "41472       NaN       NaN  \n",
       "41473       NaN       NaN  \n",
       "\n",
       "[5 rows x 1191 columns]"
      ]
     },
     "metadata": {},
     "output_type": "display_data"
    }
   ],
   "source": [
    "#the bottom of the dataframe\n",
    "display(df.tail())"
   ]
  },
  {
   "cell_type": "code",
   "execution_count": 203,
   "metadata": {},
   "outputs": [],
   "source": [
    "#index columns and SEQN parameter are identical. lets drop the SEQN parameter from the dataframe\n",
    "df = df.drop(['SEQN'], axis=1)"
   ]
  },
  {
   "cell_type": "markdown",
   "metadata": {},
   "source": [
    "Parameter meanings are ununderstandable. Lets load the Variable description table"
   ]
  },
  {
   "cell_type": "code",
   "execution_count": 204,
   "metadata": {},
   "outputs": [],
   "source": [
    "df_dict = pd.read_csv(os.path.join(DIR, 'VarDescription.csv'))"
   ]
  },
  {
   "cell_type": "code",
   "execution_count": 205,
   "metadata": {},
   "outputs": [
    {
     "data": {
      "text/html": [
       "<div>\n",
       "<style scoped>\n",
       "    .dataframe tbody tr th:only-of-type {\n",
       "        vertical-align: middle;\n",
       "    }\n",
       "\n",
       "    .dataframe tbody tr th {\n",
       "        vertical-align: top;\n",
       "    }\n",
       "\n",
       "    .dataframe thead th {\n",
       "        text-align: right;\n",
       "    }\n",
       "</style>\n",
       "<table border=\"1\" class=\"dataframe\">\n",
       "  <thead>\n",
       "    <tr style=\"text-align: right;\">\n",
       "      <th></th>\n",
       "      <th>tab_name</th>\n",
       "      <th>tab_desc</th>\n",
       "      <th>series</th>\n",
       "      <th>module</th>\n",
       "      <th>var</th>\n",
       "      <th>var_desc</th>\n",
       "      <th>analyzable</th>\n",
       "      <th>binary_ref_group</th>\n",
       "      <th>comment_var</th>\n",
       "      <th>version_date</th>\n",
       "      <th>...</th>\n",
       "      <th>mexican_pct</th>\n",
       "      <th>black_N</th>\n",
       "      <th>black_pct</th>\n",
       "      <th>other_hispanic_N</th>\n",
       "      <th>other_hispanic_pct</th>\n",
       "      <th>other_N</th>\n",
       "      <th>other_pct</th>\n",
       "      <th>series_num</th>\n",
       "      <th>category</th>\n",
       "      <th>sub_category</th>\n",
       "    </tr>\n",
       "  </thead>\n",
       "  <tbody>\n",
       "    <tr>\n",
       "      <th>0</th>\n",
       "      <td>l02_c</td>\n",
       "      <td>Hepatitis A, B, C and D</td>\n",
       "      <td>2003-2004</td>\n",
       "      <td>laboratory</td>\n",
       "      <td>LBXHBC</td>\n",
       "      <td>Hepatitis B core antibody</td>\n",
       "      <td>1</td>\n",
       "      <td>2.0</td>\n",
       "      <td>NaN</td>\n",
       "      <td>2009-11-13</td>\n",
       "      <td>...</td>\n",
       "      <td>0.271533</td>\n",
       "      <td>7304.0</td>\n",
       "      <td>0.244698</td>\n",
       "      <td>1200.0</td>\n",
       "      <td>0.040202</td>\n",
       "      <td>1157.0</td>\n",
       "      <td>0.038762</td>\n",
       "      <td>3</td>\n",
       "      <td>viral infection</td>\n",
       "      <td>NaN</td>\n",
       "    </tr>\n",
       "    <tr>\n",
       "      <th>1</th>\n",
       "      <td>l02_c</td>\n",
       "      <td>Hepatitis A, B, C and D</td>\n",
       "      <td>2003-2004</td>\n",
       "      <td>laboratory</td>\n",
       "      <td>LBDHBG</td>\n",
       "      <td>Hepatitis B surface antigen</td>\n",
       "      <td>1</td>\n",
       "      <td>2.0</td>\n",
       "      <td>NaN</td>\n",
       "      <td>2009-11-13</td>\n",
       "      <td>...</td>\n",
       "      <td>0.271533</td>\n",
       "      <td>7304.0</td>\n",
       "      <td>0.244698</td>\n",
       "      <td>1200.0</td>\n",
       "      <td>0.040202</td>\n",
       "      <td>1157.0</td>\n",
       "      <td>0.038762</td>\n",
       "      <td>3</td>\n",
       "      <td>viral infection</td>\n",
       "      <td>NaN</td>\n",
       "    </tr>\n",
       "    <tr>\n",
       "      <th>2</th>\n",
       "      <td>l02_c</td>\n",
       "      <td>Hepatitis A, B, C and D</td>\n",
       "      <td>2003-2004</td>\n",
       "      <td>laboratory</td>\n",
       "      <td>LBDHCV</td>\n",
       "      <td>Hepatitis C antibody (confirmed)</td>\n",
       "      <td>1</td>\n",
       "      <td>2.0</td>\n",
       "      <td>NaN</td>\n",
       "      <td>2009-11-13</td>\n",
       "      <td>...</td>\n",
       "      <td>0.271826</td>\n",
       "      <td>7269.0</td>\n",
       "      <td>0.244361</td>\n",
       "      <td>1198.0</td>\n",
       "      <td>0.040273</td>\n",
       "      <td>1153.0</td>\n",
       "      <td>0.038760</td>\n",
       "      <td>3</td>\n",
       "      <td>viral infection</td>\n",
       "      <td>NaN</td>\n",
       "    </tr>\n",
       "    <tr>\n",
       "      <th>3</th>\n",
       "      <td>l02_c</td>\n",
       "      <td>Hepatitis A, B, C and D</td>\n",
       "      <td>2003-2004</td>\n",
       "      <td>laboratory</td>\n",
       "      <td>LBDHD</td>\n",
       "      <td>Hepatitis D (anti-HDV)</td>\n",
       "      <td>1</td>\n",
       "      <td>2.0</td>\n",
       "      <td>NaN</td>\n",
       "      <td>2009-11-13</td>\n",
       "      <td>...</td>\n",
       "      <td>0.271533</td>\n",
       "      <td>7304.0</td>\n",
       "      <td>0.244698</td>\n",
       "      <td>1200.0</td>\n",
       "      <td>0.040202</td>\n",
       "      <td>1157.0</td>\n",
       "      <td>0.038762</td>\n",
       "      <td>3</td>\n",
       "      <td>viral infection</td>\n",
       "      <td>NaN</td>\n",
       "    </tr>\n",
       "    <tr>\n",
       "      <th>4</th>\n",
       "      <td>l02hbs_c</td>\n",
       "      <td>Hepatitis B Surface Antibody</td>\n",
       "      <td>2003-2004</td>\n",
       "      <td>laboratory</td>\n",
       "      <td>LBXHBS</td>\n",
       "      <td>Hepatitis B Surface Antibody</td>\n",
       "      <td>1</td>\n",
       "      <td>2.0</td>\n",
       "      <td>NaN</td>\n",
       "      <td>2009-11-13</td>\n",
       "      <td>...</td>\n",
       "      <td>0.273572</td>\n",
       "      <td>7879.0</td>\n",
       "      <td>0.247472</td>\n",
       "      <td>1317.0</td>\n",
       "      <td>0.041366</td>\n",
       "      <td>1272.0</td>\n",
       "      <td>0.039952</td>\n",
       "      <td>3</td>\n",
       "      <td>viral infection</td>\n",
       "      <td>NaN</td>\n",
       "    </tr>\n",
       "  </tbody>\n",
       "</table>\n",
       "<p>5 rows × 37 columns</p>\n",
       "</div>"
      ],
      "text/plain": [
       "   tab_name                      tab_desc     series      module     var  \\\n",
       "0     l02_c       Hepatitis A, B, C and D  2003-2004  laboratory  LBXHBC   \n",
       "1     l02_c       Hepatitis A, B, C and D  2003-2004  laboratory  LBDHBG   \n",
       "2     l02_c       Hepatitis A, B, C and D  2003-2004  laboratory  LBDHCV   \n",
       "3     l02_c       Hepatitis A, B, C and D  2003-2004  laboratory   LBDHD   \n",
       "4  l02hbs_c  Hepatitis B Surface Antibody  2003-2004  laboratory  LBXHBS   \n",
       "\n",
       "                           var_desc  analyzable  binary_ref_group comment_var  \\\n",
       "0         Hepatitis B core antibody           1               2.0         NaN   \n",
       "1       Hepatitis B surface antigen           1               2.0         NaN   \n",
       "2  Hepatitis C antibody (confirmed)           1               2.0         NaN   \n",
       "3            Hepatitis D (anti-HDV)           1               2.0         NaN   \n",
       "4      Hepatitis B Surface Antibody           1               2.0         NaN   \n",
       "\n",
       "  version_date  ...  mexican_pct  black_N  black_pct  other_hispanic_N  \\\n",
       "0   2009-11-13  ...     0.271533   7304.0   0.244698            1200.0   \n",
       "1   2009-11-13  ...     0.271533   7304.0   0.244698            1200.0   \n",
       "2   2009-11-13  ...     0.271826   7269.0   0.244361            1198.0   \n",
       "3   2009-11-13  ...     0.271533   7304.0   0.244698            1200.0   \n",
       "4   2009-11-13  ...     0.273572   7879.0   0.247472            1317.0   \n",
       "\n",
       "   other_hispanic_pct  other_N  other_pct series_num         category  \\\n",
       "0            0.040202   1157.0   0.038762          3  viral infection   \n",
       "1            0.040202   1157.0   0.038762          3  viral infection   \n",
       "2            0.040273   1153.0   0.038760          3  viral infection   \n",
       "3            0.040202   1157.0   0.038762          3  viral infection   \n",
       "4            0.041366   1272.0   0.039952          3  viral infection   \n",
       "\n",
       "   sub_category  \n",
       "0           NaN  \n",
       "1           NaN  \n",
       "2           NaN  \n",
       "3           NaN  \n",
       "4           NaN  \n",
       "\n",
       "[5 rows x 37 columns]"
      ]
     },
     "metadata": {},
     "output_type": "display_data"
    }
   ],
   "source": [
    "display(df_dict.head())"
   ]
  },
  {
   "cell_type": "markdown",
   "metadata": {},
   "source": [
    "Lets create a dictionary where keys are our columns names and values are their description"
   ]
  },
  {
   "cell_type": "code",
   "execution_count": 206,
   "metadata": {},
   "outputs": [],
   "source": [
    "#first we create a dictionary from the two columns - var and var_desc\n",
    "data_dict = dict(zip(df_dict['var'], df_dict['var_desc']))\n"
   ]
  },
  {
   "cell_type": "markdown",
   "metadata": {},
   "source": [
    " We can observe lots of NaN values in our data. lets present a description of the number of nan values per row and per column."
   ]
  },
  {
   "cell_type": "code",
   "execution_count": 207,
   "metadata": {},
   "outputs": [
    {
     "data": {
      "text/plain": [
       "RIDAGEYR                     0\n",
       "female                       0\n",
       "male                         0\n",
       "black                        0\n",
       "mexican                      0\n",
       "other_hispanic               0\n",
       "other_eth                    0\n",
       "SES_LEVEL                 3398\n",
       "education                 7214\n",
       "WTMEC2YR                     0\n",
       "SDMVPSU                      0\n",
       "SDMVSTRA                     0\n",
       "SDDSRVYR                     0\n",
       "WTMEC4YR                 20470\n",
       "LBXHBC                   11625\n",
       "LBDHBG                   11625\n",
       "LBDHCV                   11727\n",
       "LBDHD                    11625\n",
       "LBXHBS                    9636\n",
       "LBXHA                     9213\n",
       "LBDHI                    29553\n",
       "LBXCD4                   41361\n",
       "LBXCD8                   41361\n",
       "LBXWBF                   35126\n",
       "LBXWCF                   35125\n",
       "LBXWBM                   35126\n",
       "LBXWCM                   35105\n",
       "LBXWME                   35224\n",
       "LBXV4C                   35773\n",
       "LBXVBF                   36011\n",
       "                         ...  \n",
       "LBXV2E                   38309\n",
       "LBXV4E                   38343\n",
       "LBXVTE                   38389\n",
       "occupation               41474\n",
       "area                         0\n",
       "chronic_disease_count        0\n",
       "any_chronic_disease          0\n",
       "TELOMEAN                 33647\n",
       "TELOSTD                  33647\n",
       "any_cad                  21165\n",
       "DMDMARTL                 14681\n",
       "INDFMPIR                  3398\n",
       "income                    4418\n",
       "white                        0\n",
       "age_0_18                     0\n",
       "age_18_44                    0\n",
       "age_44_65                    0\n",
       "age_65_plus                  0\n",
       "DMDBORN                     29\n",
       "ELIGSTAT                 20470\n",
       "MORTSTAT                 30045\n",
       "MORTSOURCE_NDI           40411\n",
       "MORTSOURCE_SSA           40411\n",
       "PERMTH_INT               30045\n",
       "PERMTH_EXM               30917\n",
       "CAUSEAVL                 40411\n",
       "UCODE                    40427\n",
       "DIABETES                 40427\n",
       "HYPERTEN                 40427\n",
       "HIPFRACT                 40427\n",
       "Length: 1190, dtype: int64"
      ]
     },
     "execution_count": 207,
     "metadata": {},
     "output_type": "execute_result"
    }
   ],
   "source": [
    "df.isna().sum()"
   ]
  },
  {
   "cell_type": "markdown",
   "metadata": {},
   "source": [
    "our mission is to predict who will probably die in X years \n",
    "Lets upload a file with mortality data, and filter the dataframe rows"
   ]
  },
  {
   "cell_type": "code",
   "execution_count": 208,
   "metadata": {},
   "outputs": [],
   "source": [
    "df_mor = pd.read_csv(os.path.join(DIR, 'mortality_all.csv'))"
   ]
  },
  {
   "cell_type": "code",
   "execution_count": 209,
   "metadata": {},
   "outputs": [],
   "source": [
    "#we will set the index of the dataframe to the column seqn, which is the index of our previous dataframe\n",
    "df_mor=df_mor.set_index('seqn')"
   ]
  },
  {
   "cell_type": "code",
   "execution_count": 224,
   "metadata": {},
   "outputs": [],
   "source": [
    "#merging dataframe by index\n",
    "final_df = pd.merge(df_mor, df, left_index=True, right_index=True)\n",
    "#we filtered out all record with no info about death date \n",
    "\n",
    "#other useful function - concatinate, join"
   ]
  },
  {
   "cell_type": "markdown",
   "metadata": {},
   "source": [
    "we have 1200 columns, lets begin to filter columns based on their info\n",
    "\n"
   ]
  },
  {
   "cell_type": "code",
   "execution_count": 225,
   "metadata": {},
   "outputs": [],
   "source": [
    "# most meausurments are repeated every couple of years. lets begin with getting rid of column of un repeated meausurment\n",
    "# We will use the GroupBy method to group the columns by their year and we will filter columns that are not redundant\n",
    "\n",
    "time_groups=df_dict.groupby('series')['var']"
   ]
  },
  {
   "cell_type": "code",
   "execution_count": 226,
   "metadata": {},
   "outputs": [
    {
     "data": {
      "text/plain": [
       "pandas.core.groupby.generic.SeriesGroupBy"
      ]
     },
     "execution_count": 226,
     "metadata": {},
     "output_type": "execute_result"
    }
   ],
   "source": [
    "#unrelated useful function\n",
    "?time_groups\n",
    "type(time_groups)"
   ]
  },
  {
   "cell_type": "code",
   "execution_count": 227,
   "metadata": {},
   "outputs": [],
   "source": [
    "#Create a lists of lists\n",
    "varlists=[]\n",
    "for key,group in time_groups:\n",
    "    varlists.append(group.values)\n",
    "    \n",
    "#we will select only the columns which are redundant \n",
    "common_cols=varlists[0]\n",
    "for i,alist in enumerate(varlists): #enumerate - very useful function\n",
    "    common_cols= (set(common_cols) & set(alist))"
   ]
  },
  {
   "cell_type": "code",
   "execution_count": 228,
   "metadata": {},
   "outputs": [],
   "source": [
    "#we want to drop the unredundant columns from our original dataframe.\n",
    "#flat a list\n",
    "flat_cols = set([item for sublist in varlists for item in sublist])\n",
    "col_remove = flat_cols - common_cols\n",
    "\n",
    "#counterintuitive - some of the columns, like etnic group are of course unredundant, thus we woulnt want to remove them. \n",
    "#among the redundat columns we want to get rid of those which *arent*, and then remove them from our dataframe."
   ]
  },
  {
   "cell_type": "code",
   "execution_count": 229,
   "metadata": {},
   "outputs": [],
   "source": [
    "#very useful function to remove unwanted rows or columns from dataframe\n",
    "#axis=1 refers to the columns, the default is rows\n",
    "final_df = final_df.drop(col_remove, axis=1) "
   ]
  },
  {
   "cell_type": "code",
   "execution_count": 230,
   "metadata": {},
   "outputs": [
    {
     "data": {
      "text/plain": [
       "tab_desc\n",
       "Food Consumption              548\n",
       "Pharmaceutical Use            400\n",
       "Supplement Use                245\n",
       "Any Disease                   160\n",
       "Smoking Behavior              104\n",
       "Reproductive-related drugs    104\n",
       "Volatile Organic Compounds    101\n",
       "Complete Blood Count           80\n",
       "PHPYPA Urinary Phthalates      68\n",
       "Body Measures                  66\n",
       "dtype: int64"
      ]
     },
     "execution_count": 230,
     "metadata": {},
     "output_type": "execute_result"
    }
   ],
   "source": [
    "#We can assume food consumption and supplemental use might be less relevant for our work, lets get rid of these tabs\n",
    "df_dict.groupby(['tab_desc']).size().sort_values(ascending=False).head(10)"
   ]
  },
  {
   "cell_type": "code",
   "execution_count": 231,
   "metadata": {},
   "outputs": [],
   "source": [
    "#getting rid of diet and supplementary parameters\n",
    "# OR - using lambda functions\n",
    "filter_diet = df_dict.apply(lambda row: row['var'] if row['tab_desc'] == 'Supplement Use' or  row['tab_desc']=='Food Consumption' else None, axis=1)\n",
    "filter_diet=filter_diet.dropna()"
   ]
  },
  {
   "cell_type": "code",
   "execution_count": 232,
   "metadata": {},
   "outputs": [],
   "source": [
    "df_cols = set(final_df.columns)\n",
    "df_cols = df_cols - set(filter_diet)\n",
    "final_df = final_df[df_cols] #easiest way to subset columns in pandas"
   ]
  },
  {
   "cell_type": "markdown",
   "metadata": {},
   "source": [
    "# Dealing with categorical data"
   ]
  },
  {
   "cell_type": "markdown",
   "metadata": {},
   "source": [
    "Our dataset has lots of exmaples of categorical data: which is coding a set of paramters\n",
    "(color, ethnic group, type of treatment, etc.) represented with integers\n",
    "\n",
    "lets look at an example in our dataset - gender"
   ]
  },
  {
   "cell_type": "code",
   "execution_count": 233,
   "metadata": {},
   "outputs": [
    {
     "data": {
      "text/html": [
       "<div>\n",
       "<style scoped>\n",
       "    .dataframe tbody tr th:only-of-type {\n",
       "        vertical-align: middle;\n",
       "    }\n",
       "\n",
       "    .dataframe tbody tr th {\n",
       "        vertical-align: top;\n",
       "    }\n",
       "\n",
       "    .dataframe thead th {\n",
       "        text-align: right;\n",
       "    }\n",
       "</style>\n",
       "<table border=\"1\" class=\"dataframe\">\n",
       "  <thead>\n",
       "    <tr style=\"text-align: right;\">\n",
       "      <th></th>\n",
       "      <th>male</th>\n",
       "      <th>female</th>\n",
       "    </tr>\n",
       "  </thead>\n",
       "  <tbody>\n",
       "    <tr>\n",
       "      <th>2</th>\n",
       "      <td>0</td>\n",
       "      <td>1</td>\n",
       "    </tr>\n",
       "    <tr>\n",
       "      <th>5</th>\n",
       "      <td>0</td>\n",
       "      <td>1</td>\n",
       "    </tr>\n",
       "    <tr>\n",
       "      <th>6</th>\n",
       "      <td>0</td>\n",
       "      <td>1</td>\n",
       "    </tr>\n",
       "    <tr>\n",
       "      <th>7</th>\n",
       "      <td>1</td>\n",
       "      <td>0</td>\n",
       "    </tr>\n",
       "    <tr>\n",
       "      <th>10</th>\n",
       "      <td>1</td>\n",
       "      <td>0</td>\n",
       "    </tr>\n",
       "  </tbody>\n",
       "</table>\n",
       "</div>"
      ],
      "text/plain": [
       "    male  female\n",
       "2      0       1\n",
       "5      0       1\n",
       "6      0       1\n",
       "7      1       0\n",
       "10     1       0"
      ]
     },
     "execution_count": 233,
     "metadata": {},
     "output_type": "execute_result"
    }
   ],
   "source": [
    "final_df[['male','female']].head()"
   ]
  },
  {
   "cell_type": "code",
   "execution_count": 234,
   "metadata": {},
   "outputs": [],
   "source": [
    "#We will get rid of the male female columns and save the gender column\n",
    "#we might have rows with missing values. we should take it in account\n",
    "final_df['gender'] = final_df.apply(lambda row: 1 if row['male']==1 else 0 if row['female']==1 else None, axis=1)\n",
    "final_df = final_df.drop(['female','male'],axis=1)"
   ]
  },
  {
   "cell_type": "markdown",
   "metadata": {},
   "source": [
    "Lets looks for relevant categorical data.\n",
    "There is no perfect way to detect the categorical variables. we will confront the problem by account for the relative size of uniqe values in comaprison to total length of data set"
   ]
  },
  {
   "cell_type": "code",
   "execution_count": 287,
   "metadata": {},
   "outputs": [],
   "source": [
    "#credits: https://stackoverflow.com/questions/35826912/what-is-a-good-heuristic-to-detect-if-a-column-in-a-pandas-dataframe-is-categori\n",
    "#with some editing\n",
    "def remove_cat_features(X, method='fraction_unique', cat_cols=None, min_fraction_unique=0.001):\n",
    "    \"\"\"Removes categorical features using a given method.\n",
    "       X: pd.DataFrame, dataframe to remove categorical features from.\"\"\"\n",
    "\n",
    "    if method=='fraction_unique':\n",
    "        unique_fraction = X.apply(lambda col: len(pd.unique(col))/len(col)) \n",
    "        reduced_X =  X.columns[unique_fraction<min_fraction_unique]\n",
    "\n",
    "    return reduced_X"
   ]
  },
  {
   "cell_type": "code",
   "execution_count": 288,
   "metadata": {},
   "outputs": [],
   "source": [
    "#problem - how to deal with loads of None values\n",
    "cat_vars=remove_cat_features(final_df)"
   ]
  },
  {
   "cell_type": "code",
   "execution_count": 289,
   "metadata": {},
   "outputs": [
    {
     "data": {
      "text/plain": [
       "Index(['RHQ584', 'thyroid_cancer_self_report', 'dead_in2yr', 'CEPHALEXIN',\n",
       "       'house_age', 'age_0_18', 'HIPFRACT', 'any_ht', 'DMDMARTL',\n",
       "       'ETHINYL_ESTRADIOL__NORGESTIMATE',\n",
       "       ...\n",
       "       'RHQ540', 'mortstat', 'MORTSOURCE_NDI', 'RHQ566',\n",
       "       'HYDROCHLOROTHIAZIDE__TRIAMTERENE', 'nervous_cancer_self_report',\n",
       "       'RHQ570', 'SMQ020', 'lymphoma_self_report', 'gender'],\n",
       "      dtype='object', length=160)"
      ]
     },
     "execution_count": 289,
     "metadata": {},
     "output_type": "execute_result"
    }
   ],
   "source": [
    "cat_vars"
   ]
  },
  {
   "cell_type": "code",
   "execution_count": 279,
   "metadata": {},
   "outputs": [],
   "source": [
    "a=set(final_df['HYDROCHLOROTHIAZIDE__TRIAMTERENE'].values)"
   ]
  },
  {
   "cell_type": "code",
   "execution_count": 280,
   "metadata": {},
   "outputs": [
    {
     "data": {
      "text/plain": [
       "{0.0, 1.0, nan, nan, nan, nan, nan, nan, nan, nan}"
      ]
     },
     "execution_count": 280,
     "metadata": {},
     "output_type": "execute_result"
    }
   ],
   "source": [
    "a"
   ]
  },
  {
   "cell_type": "code",
   "execution_count": 292,
   "metadata": {},
   "outputs": [
    {
     "ename": "KeyError",
     "evalue": "'age'",
     "output_type": "error",
     "traceback": [
      "\u001b[1;31m---------------------------------------------------------------------------\u001b[0m",
      "\u001b[1;31mKeyError\u001b[0m                                  Traceback (most recent call last)",
      "\u001b[1;32m~\\Anaconda3\\lib\\site-packages\\pandas\\core\\indexes\\base.py\u001b[0m in \u001b[0;36mget_loc\u001b[1;34m(self, key, method, tolerance)\u001b[0m\n\u001b[0;32m   2656\u001b[0m             \u001b[1;32mtry\u001b[0m\u001b[1;33m:\u001b[0m\u001b[1;33m\u001b[0m\u001b[1;33m\u001b[0m\u001b[0m\n\u001b[1;32m-> 2657\u001b[1;33m                 \u001b[1;32mreturn\u001b[0m \u001b[0mself\u001b[0m\u001b[1;33m.\u001b[0m\u001b[0m_engine\u001b[0m\u001b[1;33m.\u001b[0m\u001b[0mget_loc\u001b[0m\u001b[1;33m(\u001b[0m\u001b[0mkey\u001b[0m\u001b[1;33m)\u001b[0m\u001b[1;33m\u001b[0m\u001b[1;33m\u001b[0m\u001b[0m\n\u001b[0m\u001b[0;32m   2658\u001b[0m             \u001b[1;32mexcept\u001b[0m \u001b[0mKeyError\u001b[0m\u001b[1;33m:\u001b[0m\u001b[1;33m\u001b[0m\u001b[1;33m\u001b[0m\u001b[0m\n",
      "\u001b[1;32mpandas/_libs/index.pyx\u001b[0m in \u001b[0;36mpandas._libs.index.IndexEngine.get_loc\u001b[1;34m()\u001b[0m\n",
      "\u001b[1;32mpandas/_libs/index.pyx\u001b[0m in \u001b[0;36mpandas._libs.index.IndexEngine.get_loc\u001b[1;34m()\u001b[0m\n",
      "\u001b[1;32mpandas/_libs/hashtable_class_helper.pxi\u001b[0m in \u001b[0;36mpandas._libs.hashtable.PyObjectHashTable.get_item\u001b[1;34m()\u001b[0m\n",
      "\u001b[1;32mpandas/_libs/hashtable_class_helper.pxi\u001b[0m in \u001b[0;36mpandas._libs.hashtable.PyObjectHashTable.get_item\u001b[1;34m()\u001b[0m\n",
      "\u001b[1;31mKeyError\u001b[0m: 'age'",
      "\nDuring handling of the above exception, another exception occurred:\n",
      "\u001b[1;31mKeyError\u001b[0m                                  Traceback (most recent call last)",
      "\u001b[1;32m<ipython-input-292-ce960a2f1355>\u001b[0m in \u001b[0;36m<module>\u001b[1;34m\u001b[0m\n\u001b[1;32m----> 1\u001b[1;33m \u001b[0mfinal_df\u001b[0m\u001b[1;33m[\u001b[0m\u001b[1;34m'age'\u001b[0m\u001b[1;33m]\u001b[0m\u001b[1;33m\u001b[0m\u001b[1;33m\u001b[0m\u001b[0m\n\u001b[0m",
      "\u001b[1;32m~\\Anaconda3\\lib\\site-packages\\pandas\\core\\frame.py\u001b[0m in \u001b[0;36m__getitem__\u001b[1;34m(self, key)\u001b[0m\n\u001b[0;32m   2925\u001b[0m             \u001b[1;32mif\u001b[0m \u001b[0mself\u001b[0m\u001b[1;33m.\u001b[0m\u001b[0mcolumns\u001b[0m\u001b[1;33m.\u001b[0m\u001b[0mnlevels\u001b[0m \u001b[1;33m>\u001b[0m \u001b[1;36m1\u001b[0m\u001b[1;33m:\u001b[0m\u001b[1;33m\u001b[0m\u001b[1;33m\u001b[0m\u001b[0m\n\u001b[0;32m   2926\u001b[0m                 \u001b[1;32mreturn\u001b[0m \u001b[0mself\u001b[0m\u001b[1;33m.\u001b[0m\u001b[0m_getitem_multilevel\u001b[0m\u001b[1;33m(\u001b[0m\u001b[0mkey\u001b[0m\u001b[1;33m)\u001b[0m\u001b[1;33m\u001b[0m\u001b[1;33m\u001b[0m\u001b[0m\n\u001b[1;32m-> 2927\u001b[1;33m             \u001b[0mindexer\u001b[0m \u001b[1;33m=\u001b[0m \u001b[0mself\u001b[0m\u001b[1;33m.\u001b[0m\u001b[0mcolumns\u001b[0m\u001b[1;33m.\u001b[0m\u001b[0mget_loc\u001b[0m\u001b[1;33m(\u001b[0m\u001b[0mkey\u001b[0m\u001b[1;33m)\u001b[0m\u001b[1;33m\u001b[0m\u001b[1;33m\u001b[0m\u001b[0m\n\u001b[0m\u001b[0;32m   2928\u001b[0m             \u001b[1;32mif\u001b[0m \u001b[0mis_integer\u001b[0m\u001b[1;33m(\u001b[0m\u001b[0mindexer\u001b[0m\u001b[1;33m)\u001b[0m\u001b[1;33m:\u001b[0m\u001b[1;33m\u001b[0m\u001b[1;33m\u001b[0m\u001b[0m\n\u001b[0;32m   2929\u001b[0m                 \u001b[0mindexer\u001b[0m \u001b[1;33m=\u001b[0m \u001b[1;33m[\u001b[0m\u001b[0mindexer\u001b[0m\u001b[1;33m]\u001b[0m\u001b[1;33m\u001b[0m\u001b[1;33m\u001b[0m\u001b[0m\n",
      "\u001b[1;32m~\\Anaconda3\\lib\\site-packages\\pandas\\core\\indexes\\base.py\u001b[0m in \u001b[0;36mget_loc\u001b[1;34m(self, key, method, tolerance)\u001b[0m\n\u001b[0;32m   2657\u001b[0m                 \u001b[1;32mreturn\u001b[0m \u001b[0mself\u001b[0m\u001b[1;33m.\u001b[0m\u001b[0m_engine\u001b[0m\u001b[1;33m.\u001b[0m\u001b[0mget_loc\u001b[0m\u001b[1;33m(\u001b[0m\u001b[0mkey\u001b[0m\u001b[1;33m)\u001b[0m\u001b[1;33m\u001b[0m\u001b[1;33m\u001b[0m\u001b[0m\n\u001b[0;32m   2658\u001b[0m             \u001b[1;32mexcept\u001b[0m \u001b[0mKeyError\u001b[0m\u001b[1;33m:\u001b[0m\u001b[1;33m\u001b[0m\u001b[1;33m\u001b[0m\u001b[0m\n\u001b[1;32m-> 2659\u001b[1;33m                 \u001b[1;32mreturn\u001b[0m \u001b[0mself\u001b[0m\u001b[1;33m.\u001b[0m\u001b[0m_engine\u001b[0m\u001b[1;33m.\u001b[0m\u001b[0mget_loc\u001b[0m\u001b[1;33m(\u001b[0m\u001b[0mself\u001b[0m\u001b[1;33m.\u001b[0m\u001b[0m_maybe_cast_indexer\u001b[0m\u001b[1;33m(\u001b[0m\u001b[0mkey\u001b[0m\u001b[1;33m)\u001b[0m\u001b[1;33m)\u001b[0m\u001b[1;33m\u001b[0m\u001b[1;33m\u001b[0m\u001b[0m\n\u001b[0m\u001b[0;32m   2660\u001b[0m         \u001b[0mindexer\u001b[0m \u001b[1;33m=\u001b[0m \u001b[0mself\u001b[0m\u001b[1;33m.\u001b[0m\u001b[0mget_indexer\u001b[0m\u001b[1;33m(\u001b[0m\u001b[1;33m[\u001b[0m\u001b[0mkey\u001b[0m\u001b[1;33m]\u001b[0m\u001b[1;33m,\u001b[0m \u001b[0mmethod\u001b[0m\u001b[1;33m=\u001b[0m\u001b[0mmethod\u001b[0m\u001b[1;33m,\u001b[0m \u001b[0mtolerance\u001b[0m\u001b[1;33m=\u001b[0m\u001b[0mtolerance\u001b[0m\u001b[1;33m)\u001b[0m\u001b[1;33m\u001b[0m\u001b[1;33m\u001b[0m\u001b[0m\n\u001b[0;32m   2661\u001b[0m         \u001b[1;32mif\u001b[0m \u001b[0mindexer\u001b[0m\u001b[1;33m.\u001b[0m\u001b[0mndim\u001b[0m \u001b[1;33m>\u001b[0m \u001b[1;36m1\u001b[0m \u001b[1;32mor\u001b[0m \u001b[0mindexer\u001b[0m\u001b[1;33m.\u001b[0m\u001b[0msize\u001b[0m \u001b[1;33m>\u001b[0m \u001b[1;36m1\u001b[0m\u001b[1;33m:\u001b[0m\u001b[1;33m\u001b[0m\u001b[1;33m\u001b[0m\u001b[0m\n",
      "\u001b[1;32mpandas/_libs/index.pyx\u001b[0m in \u001b[0;36mpandas._libs.index.IndexEngine.get_loc\u001b[1;34m()\u001b[0m\n",
      "\u001b[1;32mpandas/_libs/index.pyx\u001b[0m in \u001b[0;36mpandas._libs.index.IndexEngine.get_loc\u001b[1;34m()\u001b[0m\n",
      "\u001b[1;32mpandas/_libs/hashtable_class_helper.pxi\u001b[0m in \u001b[0;36mpandas._libs.hashtable.PyObjectHashTable.get_item\u001b[1;34m()\u001b[0m\n",
      "\u001b[1;32mpandas/_libs/hashtable_class_helper.pxi\u001b[0m in \u001b[0;36mpandas._libs.hashtable.PyObjectHashTable.get_item\u001b[1;34m()\u001b[0m\n",
      "\u001b[1;31mKeyError\u001b[0m: 'age'"
     ]
    }
   ],
   "source": [
    "final_df['age']"
   ]
  },
  {
   "cell_type": "code",
   "execution_count": null,
   "metadata": {},
   "outputs": [],
   "source": []
  }
 ],
 "metadata": {
  "kernelspec": {
   "display_name": "Python 3",
   "language": "python",
   "name": "python3"
  },
  "language_info": {
   "codemirror_mode": {
    "name": "ipython",
    "version": 3
   },
   "file_extension": ".py",
   "mimetype": "text/x-python",
   "name": "python",
   "nbconvert_exporter": "python",
   "pygments_lexer": "ipython3",
   "version": "3.7.3"
  }
 },
 "nbformat": 4,
 "nbformat_minor": 2
}
